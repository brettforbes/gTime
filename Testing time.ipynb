{
 "cells": [
  {
   "cell_type": "markdown",
   "metadata": {},
   "source": [
    "# Testing gTime\n",
    "\n",
    "## Aim\n",
    "1. To test the time experiment \n",
    "2. To gain practice with the Python client\n",
    "3. Learn how to use visualisation with GRAKN\n",
    "\n",
    "\n",
    "## gTime OVerview\n",
    "\n",
    "give some details here\n",
    "\n",
    "    \n",
    "![title](img\\AdditionSchemaV2.png)    \n",
    "    \n",
    "    \n",
    "```   \n",
    "    name sub attribute,\n",
    "        datatype string;\n",
    "    \n",
    "    neartime sub time;\n",
    "    mintime sub time;\n",
    "    maxtime sub time;\n",
    "\n",
    "    start sub time;\n",
    "    end sub time;\n",
    "\n",
    "    context sub entity,\n",
    "        has name,\n",
    "        has neartime,\n",
    "        has mintime,\n",
    "        has maxtime;\n",
    "\n",
    "    event sub entity,\n",
    "        has name,\n",
    "        has start,\n",
    "        has end;\n",
    "        \n",
    "insert $a isa neartime, has hour $b, has minute $c, has second $d; $a 2019-09-14T04:26:23.8185571Z; $b '10'; $c '30'; $d '40';\n",
    "\n",
    "insert $a isa maxtime, has hour $b, has minute $c, has second $d; $a 2019-09-14T04:26:23.8185571Z; $b '00'; $c '40'; $d '00';\n",
    "\n",
    "```\n",
    "\n",
    "\n",
    "\n",
    "\n",
    "## Insert Initial Context Variables\n",
    "This is so the addition operation must always include an update cycle"
   ]
  },
  {
   "cell_type": "code",
   "execution_count": 5,
   "metadata": {
    "ExecuteTime": {
     "end_time": "2019-10-07T12:11:41.822037Z",
     "start_time": "2019-10-07T12:11:39.230057Z"
    }
   },
   "outputs": [
    {
     "name": "stdout",
     "output_type": "stream",
     "text": [
      "Inserted a neartime with ID: V81928200\n"
     ]
    }
   ],
   "source": [
    "from grakn.client import GraknClient\n",
    "\n",
    "with GraknClient(uri=\"localhost:48555\") as client:\n",
    "    with client.session(keyspace=\"time_trial\") as session:\n",
    "        ## Insert a Person using a WRITE transaction\n",
    "        with session.transaction().write() as write_transaction:\n",
    "            insert_iterator = write_transaction.query(\"insert $a isa neartime, has hour $b, has minute $c, has second $d; $a 2019-09-14T04:26:23.8185571; $b '10'; $c '30'; $d '40';\")\n",
    "            concepts = insert_iterator.collect_concepts()\n",
    "            print(\"Inserted a neartime with ID: {0}\".format(concepts[0].id))\n",
    "            ## to persist changes, write transaction must always be committed (closed)\n",
    "            write_transaction.commit()\n",
    "            "
   ]
  },
  {
   "cell_type": "code",
   "execution_count": 7,
   "metadata": {
    "ExecuteTime": {
     "end_time": "2019-10-07T12:36:49.091971Z",
     "start_time": "2019-10-07T12:36:48.148630Z"
    }
   },
   "outputs": [
    {
     "name": "stdout",
     "output_type": "stream",
     "text": [
      "Inserted a neartime with ID: V40964304\n"
     ]
    }
   ],
   "source": [
    "from grakn.client import GraknClient\n",
    "\n",
    "with GraknClient(uri=\"localhost:48555\") as client:\n",
    "    with client.session(keyspace=\"time_trial\") as session:\n",
    "        ## Insert a Person using a WRITE transaction\n",
    "        with session.transaction().write() as write_transaction:\n",
    "            insert_iterator = write_transaction.query(\"insert $a isa maxtime, has hour $b, has minute $c, has second $d; $a 2019-09-14T04:26:23.8185571; $b '00'; $c '40'; $d '00';\")\n",
    "            concepts = insert_iterator.collect_concepts()\n",
    "            print(\"Inserted a maxtime with ID: {0}\".format(concepts[0].id))\n",
    "            ## to persist changes, write transaction must always be committed (closed)\n",
    "            write_transaction.commit()"
   ]
  },
  {
   "cell_type": "code",
   "execution_count": 1,
   "metadata": {
    "ExecuteTime": {
     "end_time": "2019-10-08T03:55:28.462736Z",
     "start_time": "2019-10-08T03:55:20.048829Z"
    }
   },
   "outputs": [
    {
     "name": "stdout",
     "output_type": "stream",
     "text": [
      "Inserted a mintime with ID: V81924184\n"
     ]
    }
   ],
   "source": [
    "from grakn.client import GraknClient\n",
    "\n",
    "with GraknClient(uri=\"localhost:48555\") as client:\n",
    "    with client.session(keyspace=\"time_trial\") as session:\n",
    "        ## Insert a Person using a WRITE transaction\n",
    "        with session.transaction().write() as write_transaction:\n",
    "            insert_iterator = write_transaction.query(\"insert $a isa mintime, has hour $b, has minute $c, has second $d; $a 2019-09-14T04:26:23.8185571; $b '00'; $c '40'; $d '00';\")\n",
    "            concepts = insert_iterator.collect_concepts()\n",
    "            print(\"Inserted a mintime with ID: {0}\".format(concepts[0].id))\n",
    "            ## to persist changes, write transaction must always be committed (closed)\n",
    "            write_transaction.commit()"
   ]
  },
  {
   "cell_type": "code",
   "execution_count": 1,
   "metadata": {
    "ExecuteTime": {
     "end_time": "2019-10-08T08:47:25.911596Z",
     "start_time": "2019-10-08T08:47:17.655794Z"
    }
   },
   "outputs": [
    {
     "name": "stdout",
     "output_type": "stream",
     "text": [
      "Inserted a start time with ID: V40964096\n"
     ]
    }
   ],
   "source": [
    "from grakn.client import GraknClient\n",
    "\n",
    "with GraknClient(uri=\"localhost:48555\") as client:\n",
    "    with client.session(keyspace=\"time_trial\") as session:\n",
    "        ## Insert a Person using a WRITE transaction\n",
    "        with session.transaction().write() as write_transaction:\n",
    "            insert_iterator = write_transaction.query(\"insert $a isa start, has hour $b, has minute $c, has second $d; $a 2019-09-14T04:26:23.8185571; $b '15'; $c '40'; $d '20';\")\n",
    "            concepts = insert_iterator.collect_concepts()\n",
    "            print(\"Inserted a start time with ID: {0}\".format(concepts[0].id))\n",
    "            ## to persist changes, write transaction must always be committed (closed)\n",
    "            write_transaction.commit()"
   ]
  },
  {
   "cell_type": "markdown",
   "metadata": {},
   "source": [
    "This produces the following set of time attributes\n",
    "\n",
    "![title](img\\timeTest1.png)"
   ]
  },
  {
   "cell_type": "markdown",
   "metadata": {},
   "source": [
    "This shows the potential value of the storage and index scheme, where common values for hours, minutes or seconds are related automatically.\n",
    "\n",
    "## Test out the Addition\n",
    "\n",
    "The Use Case is an Event Analysis Scenario, where some there is some event of interest and we want to find all of the other events near to this one. This implies doing two calculations based on context variables.\n",
    "\n",
    "maxtime = start + neartime\n",
    "\n",
    "mintime = start - neartime\n",
    "\n",
    "Each of these calculations is going to require two statements, deleting the current values of mintime and maxtime, and then inserting the new values."
   ]
  },
  {
   "cell_type": "code",
   "execution_count": null,
   "metadata": {},
   "outputs": [],
   "source": [
    "##\n",
    "# Work out the Addition GRAQL Query"
   ]
  }
 ],
 "metadata": {
  "hide_input": false,
  "kernelspec": {
   "display_name": "Python 3",
   "language": "python",
   "name": "python3"
  },
  "language_info": {
   "codemirror_mode": {
    "name": "ipython",
    "version": 3
   },
   "file_extension": ".py",
   "mimetype": "text/x-python",
   "name": "python",
   "nbconvert_exporter": "python",
   "pygments_lexer": "ipython3",
   "version": "3.7.1"
  },
  "latex_envs": {
   "LaTeX_envs_menu_present": true,
   "autoclose": false,
   "autocomplete": true,
   "bibliofile": "biblio.bib",
   "cite_by": "apalike",
   "current_citInitial": 1,
   "eqLabelWithNumbers": true,
   "eqNumInitial": 1,
   "hotkeys": {
    "equation": "Ctrl-E",
    "itemize": "Ctrl-I"
   },
   "labels_anchors": false,
   "latex_user_defs": false,
   "report_style_numbering": false,
   "user_envs_cfg": false
  },
  "toc": {
   "base_numbering": 1,
   "nav_menu": {},
   "number_sections": true,
   "sideBar": true,
   "skip_h1_title": false,
   "title_cell": "Table of Contents",
   "title_sidebar": "Contents",
   "toc_cell": false,
   "toc_position": {},
   "toc_section_display": true,
   "toc_window_display": false
  }
 },
 "nbformat": 4,
 "nbformat_minor": 2
}
